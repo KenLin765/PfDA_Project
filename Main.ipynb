{
 "cells": [
  {
   "cell_type": "markdown",
   "id": "9958a91e",
   "metadata": {},
   "source": [
    "# Introduction to Project"
   ]
  },
  {
   "cell_type": "markdown",
   "id": "65deefa1",
   "metadata": {},
   "source": [
    "## Project Description"
   ]
  },
  {
   "cell_type": "markdown",
   "id": "e64bbbad",
   "metadata": {},
   "source": [
    "For this project you must create a data set by simulating a real-world phenomenon of\n",
    "your choosing. You may pick any phenomenon you wish – you might pick one that is\n",
    "of interest to you in your personal or professional life. Then, rather than collect data\n",
    "related to the phenomenon, you should model and synthesise such data using Python.\n",
    "We suggest you use the numpy.random package for this purpose.\n",
    "Specifically, in this project you should:\n",
    "\n",
    "- Choose a real-world phenomenon that can be measured and for which you could collect at least one-hundred data points across at least four different variables.\n",
    "- Investigate the types of variables involved, their likely distributions, and their relationships with each other.\n",
    "- Synthesise/simulate a data set as closely matching their properties as possible.\n",
    "- Detail your research and implement the simulation in a Jupyter notebook the data set itself can simply be displayed in an output cell within the notebook.\n",
    "\n",
    "Note that this project is about simulation – you must synthesise a data set. Some students may already have some real-world data sets in their own files. It is okay to base your synthesised data set on these should you wish (please reference it if you do),\n",
    "but the main task in this project is to create a synthesised data set."
   ]
  },
  {
   "cell_type": "markdown",
   "id": "5d9c8a89",
   "metadata": {},
   "source": [
    "## Main Sources Used For Project\n",
    "\n",
    "- Python is the main code used for project \n",
    "\n",
    "- Seaborn is a library used for making attractive and informative statistical graphics in Python.\n",
    "\n",
    "- Pandasare used for data manipulation and analysis.\n",
    "\n",
    "- Numpy.Random is a subpackage of the NumPy package for working with random numbers."
   ]
  },
  {
   "cell_type": "markdown",
   "id": "6d7d8561",
   "metadata": {},
   "source": [
    "## Aim for project"
   ]
  },
  {
   "cell_type": "markdown",
   "id": "f508d8b4",
   "metadata": {},
   "source": [
    "The aim for my project is to look at military spending by countries for 2021. I firstly looked at World Population Review[1] I wanted to see real life data and what research had been done in this area already. A lot of the information, has been based on research by Stockholm International Peace Research (SIPRI Military Expenditure Database)[2] as a basis for a lot of my research. \n",
    "\n",
    "The main variables which I will research are the population of the country, how much they are spending on their military, country's GDP and finally the percentage of GDP that makes up the countries spending per year. \n",
    "\n",
    "As of 2021, world military expenditure has passed $2 trillion for first time. Total global military expenditure increased by 0.7 per cent in real terms in 2021, to reach $\\2113 billion with the 5 biggest countries being the US, China, India, the UK and Russia.[3]"
   ]
  },
  {
   "cell_type": "markdown",
   "id": "b62bd110",
   "metadata": {},
   "source": [
    "## What is military spending defined as?\n",
    "\n",
    "### SIPRI Definition of military expenditure:\n",
    "\n",
    "Where possible, SIPRI military expenditure include all current and capital expenditure on:\n",
    "the armed forces, including peace keeping forces defence ministries and other government agencies engaged in defence projects\n",
    "paramilitary forces when judged to be trained, equipped and available for military operations, military space activities\n",
    "    \n",
    "Such expenditures should include:\n",
    "\n",
    "1\\. personnel\n",
    "2\\. all expenditures on current personnel, military and civil\n",
    "3\\. retirement pensions of military personnel   \n",
    "4\\. social services for personnel and their families \n",
    "5\\. operations and maintenance\n",
    "6\\. procurement\n",
    "7\\. military research and development\n",
    "8\\. military construction\n",
    "9\\. military aid (in the military expenditures of the donor country)\n",
    "\n",
    "Excluded military related expenditures:\n",
    "\n",
    "1\\. civil defence\n",
    "2\\. current expenditure for previous military activities\n",
    "3\\. veterans benefits\n",
    "4\\. demobilization\n",
    "5\\ conversion of arms production facilities\n",
    "6\\. destruction of weapons [3]"
   ]
  },
  {
   "cell_type": "code",
   "execution_count": 7,
   "id": "1d04f003",
   "metadata": {},
   "outputs": [],
   "source": [
    "# import python libraries\n",
    "import numpy as np\n",
    "import pandas as pd\n",
    "import seaborn as sns\n",
    "import matplotlib.pyplot as plt"
   ]
  },
  {
   "cell_type": "markdown",
   "id": "276df762",
   "metadata": {},
   "source": [
    "I firstly decided to look at real life data. I had to very slightly adapt the database which I got from SIPRI. I removed the first approximately 10 lines on each excel sheet as I was finding it difficult read in the data. The main pieces that I removed provided just general info on the database."
   ]
  },
  {
   "cell_type": "code",
   "execution_count": 3,
   "id": "afacbddc",
   "metadata": {},
   "outputs": [
    {
     "name": "stdout",
     "output_type": "stream",
     "text": [
      "The shape of the data from Current US$ is: \n",
      " (191, 75)\n",
      "The shape of the data from GDP is: \n",
      " (191, 75)\n",
      "The shape of the data from percentage of spending is: \n",
      " (191, 37)\n"
     ]
    }
   ],
   "source": [
    "df = pd.read_excel(r'C:\\Users\\Kenne\\OneDrive\\Desktop\\Programming\\PfDA_Project\\data\\SIPRI DATA.xlsx', sheet_name= 'Current US')\n",
    "\n",
    "GDP = pd.read_excel(r'C:\\Users\\Kenne\\OneDrive\\Desktop\\Programming\\PfDA_Project\\data\\SIPRI DATA.xlsx', sheet_name= 'Share of GDP')\n",
    "\n",
    "percentage = pd.read_excel(r'C:\\Users\\Kenne\\OneDrive\\Desktop\\Programming\\PfDA_Project\\data\\SIPRI DATA.xlsx', sheet_name= 'Share of Govt. spending')\n",
    "\n",
    "print(\"The shape of the data from Current US$ is: \\n\",df.shape)\n",
    "\n",
    "print(\"The shape of the data from GDP is: \\n\",GDP.shape)\n",
    "\n",
    "print(\"The shape of the data from percentage of spending is: \\n\",percentage.shape)"
   ]
  },
  {
   "cell_type": "markdown",
   "id": "3585df54",
   "metadata": {},
   "source": [
    "I decided to look at the shape of the data firstly and it shows that there 191 columns in the database, mostly displaying countries and continents in which they are in. There are also 75 rows of data which displays the amount spent by a country, in dollars. The GDP data on the dataset is the exact same in terms of columns and rows.\n",
    "\n",
    "I also wanted to dipslay that my idea for the "
   ]
  },
  {
   "cell_type": "code",
   "execution_count": 14,
   "id": "2ed46193",
   "metadata": {},
   "outputs": [
    {
     "data": {
      "text/plain": [
       "56"
      ]
     },
     "execution_count": 14,
     "metadata": {},
     "output_type": "execute_result"
    }
   ],
   "source": [
    "df = pd.read_excel(r'C:\\Users\\Kenne\\OneDrive\\Desktop\\Programming\\PfDA_Project\\data\\SIPRI DATA.xlsx', sheet_name= 'Current US')\n",
    "\n",
    "df.isnull().any(axis = 1).sum()"
   ]
  },
  {
   "cell_type": "markdown",
   "id": "e6f461a9",
   "metadata": {},
   "source": [
    "## Investigate the types of variables involved, their likely distributions, and their relationships with each other\n",
    "\n",
    "In this part of the assignment, I am going to create the dataset based on numpy random and begin to investigate distributions and relationships with one another. \n",
    "\n",
    "Firstly, I will investigate the variables in the datasets used by SIPRI. I will use histograms and boxplots to show some of the variables in this dataset. I will then explore relationships that may exist between the variables using visualisations such as scatterplot, pairplots etc and statistics such as correlation and covariance statistics.\n",
    "\n",
    "I will use this to create a synthesised data set.\n",
    "\n",
    "I have decided to use the actual country names, just purely as I find it easier to analyse with a real name as opposed to a pseudo name. \n",
    "\n",
    "I will create the country's GDP, total spending and percentages of spending using random numpy.\n",
    "\n",
    "I will then use this data to visualise relationships which we may find.\n",
    "\n",
    "For the purposes of this assignment, I am going to say that this is the data for 2021."
   ]
  },
  {
   "cell_type": "markdown",
   "id": "190cb9c3",
   "metadata": {},
   "source": [
    "In my analysis of the dataset, I realised that I couldn't use randint for all 4 columns so I decided to append the datasets together using code. "
   ]
  },
  {
   "cell_type": "code",
   "execution_count": 37,
   "id": "735f752b",
   "metadata": {
    "scrolled": true
   },
   "outputs": [],
   "source": [
    "#Used 248 as that is the number of countries\n",
    "\n",
    "Total_Spend = np.random.randint(2000000,190000000,size=(248,1))\n",
    "\n",
    "#I created the array by taking all countries from this website - https://pytutorial.com/python-country-list\n",
    "\n",
    "countries = ['Afghanistan', 'Aland Islands', 'Albania', 'Algeria', 'American Samoa', 'Andorra', 'Angola', 'Anguilla', 'Antarctica', 'Antigua and Barbuda', 'Argentina', 'Armenia', 'Aruba', 'Australia', 'Austria', 'Azerbaijan', 'Bahamas', 'Bahrain', 'Bangladesh', 'Barbados', 'Belarus', 'Belgium', 'Belize', 'Benin', 'Bermuda', 'Bhutan', 'Bolivia, Plurinational State of', 'Bonaire, Sint Eustatius and Saba', 'Bosnia and Herzegovina', 'Botswana', 'Bouvet Island', 'Brazil', 'British Indian Ocean Territory', 'Brunei Darussalam', 'Bulgaria', 'Burkina Faso', 'Burundi', 'Cambodia', 'Cameroon', 'Canada', 'Cape Verde', 'Cayman Islands', 'Central African Republic', 'Chad', 'Chile', 'China', 'Christmas Island', 'Cocos (Keeling) Islands', 'Colombia', 'Comoros', 'Congo', 'Congo, The Democratic Republic of the', 'Cook Islands', 'Costa Rica', \"Côte d'Ivoire\", 'Croatia', 'Cuba', 'Curaçao', 'Cyprus', 'Czech Republic', 'Denmark', 'Djibouti', 'Dominica', 'Dominican Republic', 'Ecuador', 'Egypt', 'El Salvador', 'Equatorial Guinea', 'Eritrea', 'Estonia', 'Ethiopia', 'Falkland Islands (Malvinas)', 'Faroe Islands', 'Fiji', 'Finland', 'France', 'French Guiana', 'French Polynesia', 'French Southern Territories', 'Gabon', 'Gambia', 'Georgia', 'Germany', 'Ghana', 'Gibraltar', 'Greece', 'Greenland', 'Grenada', 'Guadeloupe', 'Guam', 'Guatemala', 'Guernsey', 'Guinea', 'Guinea-Bissau', 'Guyana', 'Haiti', 'Heard Island and McDonald Islands', 'Holy See (Vatican City State)', 'Honduras', 'Hong Kong', 'Hungary', 'Iceland', 'India', 'Indonesia', 'Iran, Islamic Republic of', 'Iraq', 'Ireland', 'Isle of Man', 'Israel', 'Italy', 'Jamaica', 'Japan', 'Jersey', 'Jordan', 'Kazakhstan', 'Kenya', 'Kiribati', \"Korea, Democratic People's Republic of\", 'Korea, Republic of', 'Kuwait', 'Kyrgyzstan', \"Lao People's Democratic Republic\", 'Latvia', 'Lebanon', 'Lesotho', 'Liberia', 'Libya', 'Liechtenstein', 'Lithuania', 'Luxembourg', 'Macao', 'Macedonia, Republic of', 'Madagascar', 'Malawi', 'Malaysia', 'Maldives', 'Mali', 'Malta', 'Marshall Islands', 'Martinique', 'Mauritania', 'Mauritius', 'Mayotte', 'Mexico', 'Micronesia, Federated States of', 'Moldova, Republic of', 'Monaco', 'Mongolia', 'Montenegro', 'Montserrat', 'Morocco', 'Mozambique', 'Myanmar', 'Namibia', 'Nauru', 'Nepal', 'Netherlands', 'New Caledonia', 'New Zealand', 'Nicaragua', 'Niger', 'Nigeria', 'Niue', 'Norfolk Island', 'Northern Mariana Islands', 'Norway', 'Oman', 'Pakistan', 'Palau', 'Palestinian Territory, Occupied', 'Panama', 'Papua New Guinea', 'Paraguay', 'Peru', 'Philippines', 'Pitcairn', 'Poland', 'Portugal', 'Puerto Rico', 'Qatar', 'Réunion', 'Romania', 'Russian Federation', 'Rwanda', 'Saint Barthélemy', 'Saint Helena, Ascension and Tristan da Cunha', 'Saint Kitts and Nevis', 'Saint Lucia', 'Saint Martin (French part)', 'Saint Pierre and Miquelon', 'Saint Vincent and the Grenadines', 'Samoa', 'San Marino', 'Sao Tome and Principe', 'Saudi Arabia', 'Senegal', 'Serbia', 'Seychelles', 'Sierra Leone', 'Singapore', 'Sint Maarten (Dutch part)', 'Slovakia', 'Slovenia', 'Solomon Islands', 'Somalia', 'South Africa', 'South Georgia and the South Sandwich Islands', 'Spain', 'Sri Lanka', 'Sudan', 'Suriname', 'South Sudan', 'Svalbard and Jan Mayen', 'Swaziland', 'Sweden', 'Switzerland', 'Syrian Arab Republic', 'Taiwan, Province of China', 'Tajikistan', 'Tanzania, United Republic of', 'Thailand', 'Timor-Leste', 'Togo', 'Tokelau', 'Tonga', 'Trinidad and Tobago', 'Tunisia', 'Turkey', 'Turkmenistan', 'Turks and Caicos Islands', 'Tuvalu', 'Uganda', 'Ukraine', 'United Arab Emirates', 'United Kingdom', 'United States', 'United States Minor Outlying Islands', 'Uruguay', 'Uzbekistan', 'Vanuatu', 'Venezuela, Bolivarian Republic of', 'Viet Nam', 'Virgin Islands, British', 'Virgin Islands, U.S.', 'Wallis and Futuna', 'Yemen', 'Zambia', 'Zimbabwe']\n",
    "\n",
    "df1 = pd.DataFrame(Total_Spend, countries, columns= ['Total Spending'])\n",
    "\n",
    "\n",
    "\n",
    "GDP = np.random.randint(1,6,size=(248,1))\n",
    "\n",
    "#I created the array by taking all countries from this website - https://pytutorial.com/python-country-list\n",
    "\n",
    "\n",
    "df2 = pd.DataFrame(GDP, countries, columns= ['Total GDP'])\n",
    "\n",
    "\n",
    "\n",
    "Percentage_Of_Spending = np.random.randint(1,36,size=(248,1))\n",
    "\n",
    "#I created the array by taking all countries from this website - https://pytutorial.com/python-country-list\n",
    "\n",
    "df3 = pd.DataFrame(Percentage_Of_Spending, countries, columns= ['Percentage of spending'])\n",
    "\n",
    "\n",
    "Per_Capita = np.random.randint(4,2025,size=(248,1))\n",
    "\n",
    "#I created the array by taking all countries from this website - https://pytutorial.com/python-country-list\n",
    "\n",
    "df4 = pd.DataFrame(Per_Capita, countries, columns= ['Per Capita'])\n",
    "\n",
    "\n",
    "df1.to_csv(\"sythesized.csv\")\n",
    "df2.to_csv(\"sythesized.csv\", mode=\"a\")\n",
    "df3.to_csv(\"sythesized.csv\", mode=\"a\")\n",
    "df4.to_csv(\"sythesized.csv\", mode=\"a\")\n"
   ]
  },
  {
   "cell_type": "markdown",
   "id": "87f9a120",
   "metadata": {},
   "source": [
    "## Information on how I Sythesized Data\n",
    "\n",
    "I was unable to get the code to go next to each other on the output of this code, so just due to time constraints, I have amended the data manually using excel.\n",
    "\n",
    "I have called the new file sythesized2. I added a dollar sign using excel, just for simplicity due to the size of the numbers.\n",
    "\n",
    "I tried to base the sythesized data as much as possible around the original data file, which is why I ran the randint code 4 times, as I wanted to provide different values, so that the data could be as close to the original as I could possibly could get it."
   ]
  },
  {
   "cell_type": "code",
   "execution_count": 57,
   "id": "8ee9f21d",
   "metadata": {},
   "outputs": [
    {
     "name": "stdout",
     "output_type": "stream",
     "text": [
      "             Countries  Total Spending  Total GDP  Percentage of spending  \\\n",
      "0          Afghanistan       112750202          5                       6   \n",
      "1        Aland Islands       171844362          3                       8   \n",
      "2              Albania       104346364          2                      22   \n",
      "3              Algeria        68241318          1                      24   \n",
      "4       American Samoa        34195364          5                       8   \n",
      "5              Andorra       134238338          5                      14   \n",
      "6               Angola       136442542          4                      19   \n",
      "7             Anguilla        26530832          4                       8   \n",
      "8           Antarctica       171791222          4                      29   \n",
      "9  Antigua and Barbuda       107515200          3                       2   \n",
      "\n",
      "   Per Capita  \n",
      "0        1103  \n",
      "1         282  \n",
      "2         884  \n",
      "3         416  \n",
      "4        1730  \n",
      "5         711  \n",
      "6        1469  \n",
      "7         893  \n",
      "8          72  \n",
      "9         211  \n",
      "                             Countries  Total Spending  Total GDP  \\\n",
      "238                         Uzbekistan         3423662          4   \n",
      "239                            Vanuatu       114051644          5   \n",
      "240  Venezuela, Bolivarian Republic of       120301799          3   \n",
      "241                           Viet Nam        82941173          4   \n",
      "242            Virgin Islands, British       166473137          1   \n",
      "243               Virgin Islands, U.S.        44593106          5   \n",
      "244                  Wallis and Futuna        32230518          5   \n",
      "245                              Yemen       167926032          1   \n",
      "246                             Zambia       121122799          4   \n",
      "247                           Zimbabwe        29552468          3   \n",
      "\n",
      "     Percentage of spending  Per Capita  \n",
      "238                      34        1973  \n",
      "239                      11         332  \n",
      "240                      21        1412  \n",
      "241                       7        1937  \n",
      "242                      15        1956  \n",
      "243                      24         959  \n",
      "244                      29        1565  \n",
      "245                       2        1661  \n",
      "246                      32         985  \n",
      "247                      29        1572  \n",
      "\n",
      "The shape of the data from percentage of spending is: \n",
      " (248, 5)\n"
     ]
    }
   ],
   "source": [
    "df = pd.read_excel(r'C:\\Users\\Kenne\\OneDrive\\Desktop\\Programming\\PfDA_Project\\data\\sythesized2.xlsx', sheet_name= 'in')\n",
    "\n",
    "print (df.head(10))\n",
    "\n",
    "print (df.tail(10))\n",
    "\n",
    "print(\"\")\n",
    "\n",
    "print(\"The shape of the data from percentage of spending is: \\n\",df.shape)"
   ]
  },
  {
   "cell_type": "markdown",
   "id": "f0757b45",
   "metadata": {},
   "source": [
    "### Confirmation of Data \n",
    "\n",
    "I printed the top 10 just to check that the excel sheet was displaying correctly and it seems to be fine, based on the variables that I created. The data which I created also has a shape of 248 rows and 5 columns which I had to amend from the original database to create the information.\n",
    "\n",
    "The next part of the study I am going to develop a histogram of the total spending and then using this data with specific nations to compare how their spending compares with the other variables."
   ]
  },
  {
   "cell_type": "code",
   "execution_count": 55,
   "id": "cd0e0155",
   "metadata": {},
   "outputs": [
    {
     "data": {
      "image/png": "[encoded data removed]",
      "text/plain": [
       "<Figure size 432x288 with 1 Axes>"
      ]
     },
     "metadata": {},
     "output_type": "display_data"
    }
   ],
   "source": [
    "df = pd.read_excel(r'C:\\Users\\Kenne\\OneDrive\\Desktop\\Programming\\PfDA_Project\\data\\sythesized2.xlsx', sheet_name= 'in')\n",
    "\n",
    "## Reads in the excel file\n",
    "\n",
    "df.plot( x='Countries', y='Total Spending', kind='scatter')\n",
    "\n",
    "## X plot of the countries column from excel sheet, y plot of the total spending column on excel\n",
    "\n",
    "plt.xticks(range(0,0))\n",
    "## This was displaying all countries, and I wanted to just show the general data for a start\n",
    "\n",
    "plt.title(\"Total Spending by country\")\n",
    "\n",
    "plt.show()"
   ]
  },
  {
   "cell_type": "markdown",
   "id": "fbf41887",
   "metadata": {},
   "source": [
    "### Analysis on the raw data\n",
    "\n",
    "In this section of the project, I am going to look at some of the variables using loc and iloc. I want to see some of our biggest militaries and how much they spend. I am going to use iloc and loc to highlight some of the key features of my dataset that I noted when looking at the raw data.\n",
    "\n",
    "I will use some of the tools within pandas to show the data."
   ]
  },
  {
   "cell_type": "code",
   "execution_count": 97,
   "id": "7e49c59a",
   "metadata": {},
   "outputs": [
    {
     "name": "stdout",
     "output_type": "stream",
     "text": [
      "The first country in the dataset is Afghanistan\n",
      "\n",
      "The First column of this dataset shows us countries:\n",
      "0               Afghanistan\n",
      "1             Aland Islands\n",
      "2                   Albania\n",
      "3                   Algeria\n",
      "4            American Samoa\n",
      "               ...         \n",
      "243    Virgin Islands, U.S.\n",
      "244       Wallis and Futuna\n",
      "245                   Yemen\n",
      "246                  Zambia\n",
      "247                Zimbabwe\n",
      "Name: Countries, Length: 248, dtype: object\n",
      "\n",
      "The second column of this dataset shows us total spending the country has made:\n",
      "0      112750202\n",
      "1      171844362\n",
      "2      104346364\n",
      "3       68241318\n",
      "4       34195364\n",
      "         ...    \n",
      "243     44593106\n",
      "244     32230518\n",
      "245    167926032\n",
      "246    121122799\n",
      "247     29552468\n",
      "Name: Total Spending, Length: 248, dtype: int64\n",
      "\n",
      "Will the dataset allow to find a specific country and their total GDP?\n",
      "    Countries  Total Spending  Total GDP\n",
      "10  Argentina        98443600          3\n",
      "\n",
      "Which countries have spent over $200 million on their military?\n",
      "                                Countries  Total Spending  Total GDP  \\\n",
      "1                           Aland Islands       171844362          3   \n",
      "8                              Antarctica       171791222          4   \n",
      "12                                  Aruba       171507615          2   \n",
      "26        Bolivia, Plurinational State of       182133189          1   \n",
      "28                 Bosnia and Herzegovina       167959267          3   \n",
      "..                                    ...             ...        ...   \n",
      "234                        United Kingdom       170691088          3   \n",
      "236  United States Minor Outlying Islands       155640311          5   \n",
      "237                               Uruguay       181533393          3   \n",
      "242               Virgin Islands, British       166473137          1   \n",
      "245                                 Yemen       167926032          1   \n",
      "\n",
      "     Percentage of spending  Per Capita  \n",
      "1                         8         282  \n",
      "8                        29          72  \n",
      "12                       22         884  \n",
      "26                       17         559  \n",
      "28                       27          98  \n",
      "..                      ...         ...  \n",
      "234                      23        1074  \n",
      "236                      25        1964  \n",
      "237                      12        1470  \n",
      "242                      15        1956  \n",
      "245                       2        1661  \n",
      "\n",
      "[61 rows x 5 columns]\n"
     ]
    }
   ],
   "source": [
    "\n",
    "import pandas as pd\n",
    "import random\n",
    "\n",
    "df = pd.read_excel(r'C:\\Users\\Kenne\\OneDrive\\Desktop\\Programming\\PfDA_Project\\data\\sythesized2.xlsx', sheet_name= 'in')\n",
    "\n",
    "\n",
    "print (\"The first country in the dataset is\", df['Countries'][0])\n",
    "\n",
    "print(\"\")\n",
    "\n",
    "print (\"The First column of this dataset shows us countries:\")\n",
    "       \n",
    "print (df.iloc[:,0])\n",
    "\n",
    "print(\"\")\n",
    "\n",
    "print (\"The second column of this dataset shows us total spending the country has made:\")\n",
    "       \n",
    "print (df.iloc[:,1])\n",
    "\n",
    "print(\"\")\n",
    "\n",
    "print (\"Will the dataset allow to find a specific country and their total GDP?\")\n",
    "\n",
    "print (df.loc[df['Countries'] == 'Argentina', 'Countries':'Total GDP'])\n",
    "\n",
    "print (\"\")\n",
    "\n",
    "print (\"Which countries have spent over $150 million on their military?\")\n",
    "\n",
    "df1 = df[(df.filter(like='Total Spending') > 150000000).any(axis=1)]\n",
    "print (df1)"
   ]
  },
  {
   "cell_type": "markdown",
   "id": "4d4126b9",
   "metadata": {},
   "source": [
    "### Scatter plot of all Countries Spending\n",
    "\n",
    "I generated a scatter plot to show the variety of data which the numpy random package has created based on the data which it created. A scatter plot has been described as \"A scatterplot is often the graph of choice for displaying the relationship between two variables. Scatterplots are useful for exploratory analysis, but can do much more than just identifying correlations. As datasets get larger and more complex, relying solely on “eye power” alone may cause us to miss\n",
    "interesting associations.\" [4]\n",
    "\n",
    "My reason for using the scatter plot is that I felt it shows a variety which makes this an interesting study to take different. I also think it provides a nice display of the data. In the original dataset, it showed each year, how much military spending each country made, and the data seems quite broad like the data that I had seen in the first dataset. \n",
    "\n",
    "The US in real life spent $\\801 billion in 2021 on their military spend, with a GDP of 3.5\\%. Russia's GDP rose to 4.1 with a military spend of $65.9 billion for the same period. China's military spending was $293 billion, with a GDP of 1.7.[3] These would be the 3 global super powers. I decided to then look into Ireland, as we have been a neutral country post WWII Ireland's spend in 2021 increased to 1.1 billion. The Irish government have said \"the next few months on raising its level of expenditure on defence as well as on increasing numbers and boosting military infrastructure and is currently unable to credibly defend the country.\" It has increased by 50\\% to approximately €1.6 billion. It shows for a such a small country, how much they can spend. The final country, I think is an interesting one to look at is Saudi Arabia, who have been in military conflict with Yemen and you would expect to have a high military spending. Saudi Arabia spent €190 billion and with 8.4\\% of their GDP. "
   ]
  },
  {
   "cell_type": "markdown",
   "id": "05eb6166",
   "metadata": {},
   "source": [
    "For the next part of the project, I am going to take these five nations and investigate the sythesized data and the relationship between these variables. I will display the info from the table and then look at the other variables and display graphs to display information. I will be using the total spending as the main variable for comparison."
   ]
  },
  {
   "cell_type": "code",
   "execution_count": 17,
   "id": "53d3a5ab",
   "metadata": {},
   "outputs": [
    {
     "name": "stdout",
     "output_type": "stream",
     "text": [
      "Countries                     China\n",
      "Total Spending            155212026\n",
      "Total GDP                         4\n",
      "Percentage of spending            7\n",
      "Per Capita                      500\n",
      "Name: 45, dtype: object\n",
      "\n",
      "Countries                   Ireland\n",
      "Total Spending            123585945\n",
      "Total GDP                         5\n",
      "Percentage of spending           23\n",
      "Per Capita                      691\n",
      "Name: 106, dtype: object\n",
      "\n",
      "Countries                 Russian Federation\n",
      "Total Spending                      22561370\n",
      "Total GDP                                  2\n",
      "Percentage of spending                     8\n",
      "Per Capita                               446\n",
      "Name: 182, dtype: object\n",
      "\n",
      "Countries                 Saudi Arabia\n",
      "Total Spending               161189830\n",
      "Total GDP                            1\n",
      "Percentage of spending               9\n",
      "Per Capita                        2013\n",
      "Name: 194, dtype: object\n",
      "\n",
      "Countries                 United States\n",
      "Total Spending                 84481762\n",
      "Total GDP                             4\n",
      "Percentage of spending               17\n",
      "Per Capita                         1905\n",
      "Name: 235, dtype: object\n"
     ]
    }
   ],
   "source": [
    "import pandas as pd\n",
    "\n",
    "df = pd.read_excel(r'C:\\Users\\Kenne\\OneDrive\\Desktop\\Programming\\PfDA_Project\\data\\sythesized2.xlsx', sheet_name= 'in')\n",
    "\n",
    "\n",
    "print(df.loc[45])\n",
    "print (\"\")\n",
    "print(df.loc[106])\n",
    "print (\"\")\n",
    "print(df.loc[182])\n",
    "print (\"\")\n",
    "print(df.loc[194])\n",
    "print (\"\")\n",
    "print(df.loc[235])\n",
    "\n"
   ]
  },
  {
   "cell_type": "code",
   "execution_count": 45,
   "id": "a41874fb",
   "metadata": {},
   "outputs": [
    {
     "data": {
      "text/plain": [
       "Text(0.5, 1.0, 'Total Spend by Country')"
      ]
     },
     "execution_count": 45,
     "metadata": {},
     "output_type": "execute_result"
    },
    {
     "data": {
      "image/png": "[encoded data removed]",
      "text/plain": [
       "<Figure size 432x288 with 1 Axes>"
      ]
     },
     "metadata": {
      "needs_background": "light"
     },
     "output_type": "display_data"
    }
   ],
   "source": [
    "## I used this link to help create this table as I wanted to group by the values, I started to do this manually and then found this code that did it for me and used as the basis \n",
    "## https://stackoverflow.com/questions/63159819/python-numpy-array-create-bar-graph-from-touple-values\n",
    "\n",
    "#Creating data set for the amount spent\n",
    "data= np.array([\n",
    "       (155212026, 'China'), (123585945, 'Ireland'), (22561370, 'Russia'),\n",
    "       (161189830, 'Saudi Arabia'), (84481762, 'United States')])       \n",
    "\n",
    "\n",
    "data = sorted(\n",
    "                     [(name, float(val)) for val, name in data], \n",
    "                     key=lambda x:x[1], \n",
    "                     reverse=True\n",
    "                    )  \n",
    "\n",
    "plt.bar(*zip(*data))\n",
    "plt.title('Total Spend by Country')\n",
    "\n",
    "\n"
   ]
  },
  {
   "cell_type": "markdown",
   "id": "b8c315ea",
   "metadata": {},
   "source": [
    "### Expenditures for countries\n",
    "\n",
    "I created a table that shows the countries with the highest expenditure and created a table of the 5 variables. This shows us vastly different data than what we saw with the real life data, with Russia being one of the lowest whereas in real life data they are in the top 3. Saudi Arabia are now the country with the largest military spend.\n",
    "\n",
    "China being in second with their spending being 1.5 billion, Ireland came in third, with their spending being in third with a spending of $123 million. Bar charts are useful to display basic information for a total spending for a country."
   ]
  },
  {
   "cell_type": "code",
   "execution_count": 50,
   "id": "e609b819",
   "metadata": {},
   "outputs": [
    {
     "data": {
      "image/png": "[encoded data removed]",
      "text/plain": [
       "<Figure size 432x288 with 1 Axes>"
      ]
     },
     "metadata": {
      "needs_background": "light"
     },
     "output_type": "display_data"
    }
   ],
   "source": [
    "x_axis = ['Saudi Arabia', 'Russia', 'China', 'Ireland', 'US']\n",
    "y_axis = ['1', '2', '4', '4', '5']\n",
    "\n",
    "plt.plot(x_axis, y_axis)\n",
    "plt.title('Total GDP')\n",
    "plt.xlabel('Countries')\n",
    "plt.ylabel('Values')\n",
    "plt.show()"
   ]
  },
  {
   "cell_type": "markdown",
   "id": "47676e5e",
   "metadata": {},
   "source": [
    "### Share of Government Spending\n",
    "\n",
    "I personally think that this is the most interesting part of this dataset, as I think it shows how even though, the majority the world is no longer in a war, it's a seemingly ever growing percentage for the majority of countries in looking at the raw data, especially in the past two years.\n",
    "\n",
    "Military spending absorbed on average about 6½ percent of government budgets across the world in 2019, according to data from the Stockholm International Peace Research Institute. Since the end of the Cold War in 1990, defense outlays have declined both as a share of government spending and had made room for other forms of public spending, such as on education, health, and infrastructure. [8]\n",
    "\n",
    "In the next part of my analysis, I'm going to create a fictional pie chart for Ireland's spending in 2021"
   ]
  },
  {
   "cell_type": "code",
   "execution_count": 29,
   "id": "b4cb0a7a",
   "metadata": {},
   "outputs": [
    {
     "data": {
      "image/png": "[encoded data removed]",
      "text/plain": [
       "<Figure size 432x288 with 1 Axes>"
      ]
     },
     "metadata": {},
     "output_type": "display_data"
    }
   ],
   "source": [
    "# https://www.geeksforgeeks.org/how-to-create-a-pie-chart-in-seaborn/?ref=rp - I used this as the basis for this code.\n",
    "\n",
    "# data are the figures that I used\n",
    "data = [23, 14, 13, 11, 13, 16, 20]\n",
    "keys = ['Military', 'Health', 'Social Security', 'Food & Agriculture',\n",
    "        'Transportation', 'Education', 'International Affairs']\n",
    "  \n",
    "# declaring exploding pie, this changes the position of the segment, I used this the military segment\n",
    "explode = [0.1, 0, 0, 0, 0, 0, 0]\n",
    "# define Seaborn color palette to use\n",
    "palette_color = seaborn.color_palette('dark')\n",
    "  \n",
    "# plots data as a percentage\n",
    "plt.pie(data, labels=keys, colors=palette_color,\n",
    "        explode=explode, autopct='%.0f%%')\n",
    "  \n",
    "# added title and plotted graph\n",
    "plt.title(\"Ireland's Total Spending for 2021\")\n",
    "# Plots the chart\n",
    "plt.show()"
   ]
  },
  {
   "cell_type": "markdown",
   "id": "29a695b4",
   "metadata": {},
   "source": [
    "### Explanation of Pie Chart\n",
    "\n",
    "I decided to create a pseudo bar-chart and created my own data, to display how military could potentially (hopefully not), take up a significant amount of a total spend for the country. In this example, I used random values to develop the graph, based on the info which I sythesized using random numpy.\n",
    "\n",
    "I tried to pick the most common total spending variables to build the pie chart. Military remains the top variable, with international affairs in second and then finally food & agriculture in last at 10%. \n",
    "\n",
    "The next variables I would like to compare are the total spending percentage for GDP and total spending, this would indicate how efficient total spending is against GDP as GDP is a study for is the standard measure of the value added created through the production of goods and services in a country during a certain period. I think in some ways this would show the efficiency of a the country in comparing these two variables. I firstly have generated a graph with all the countries and their percentage of spending."
   ]
  },
  {
   "cell_type": "code",
   "execution_count": 36,
   "id": "ba88e21d",
   "metadata": {},
   "outputs": [
    {
     "data": {
      "image/png": "[encoded data removed]",
      "text/plain": [
       "<Figure size 432x288 with 1 Axes>"
      ]
     },
     "metadata": {
      "needs_background": "light"
     },
     "output_type": "display_data"
    }
   ],
   "source": [
    "df = pd.read_excel(r'C:\\Users\\Kenne\\OneDrive\\Desktop\\Programming\\PfDA_Project\\data\\sythesized2.xlsx', sheet_name= 'in')\n",
    "\n",
    "## Reads in the excel file\n",
    "\n",
    "sns.scatterplot(data = df, x = \"Countries\", y = \"Percentage of spending\")\n",
    "\n",
    "plt.xticks(range(0,0))\n",
    "\n",
    "plt.show()\n"
   ]
  },
  {
   "cell_type": "code",
   "execution_count": 85,
   "id": "9739a197",
   "metadata": {},
   "outputs": [
    {
     "data": {
      "image/png": "[encoded data removed]",
      "text/plain": [
       "<Figure size 432x288 with 1 Axes>"
      ]
     },
     "metadata": {
      "needs_background": "light"
     },
     "output_type": "display_data"
    }
   ],
   "source": [
    "Countries = ['Saudi Arabia', 'Russia', 'China', 'Ireland', 'US']\n",
    "GDP = [1, 2, 4, 4, 5]\n",
    "Percentages = [9, 8, 7, 23, 17]\n",
    "\n",
    "\n",
    "plt.scatter(Countries,Percentages, cmap=cm.hsv)\n",
    "plt.scatter(Countries,GDP, cmap=cm.hsv)\n",
    "# I found plotting two separate allowed me to show both \n",
    "\n",
    "plt.legend(('Percentages of Spending', 'GDP'), scatterpoints=1, loc='upper left', ncol=3, fontsize=8)\n",
    "# Plots a legend which shows the colours of the two variables which I have included in the legend.\n",
    "\n",
    "plt.show()"
   ]
  },
  {
   "cell_type": "markdown",
   "id": "ac0dc6f6",
   "metadata": {},
   "source": [
    "### Comparison of GDP and Total Spending\n",
    "\n",
    "The five main countries have for the most part, completely different differences in their GDP over the percentages of spending. Ireland has a GDP of 5, yet a percentage of spending of 23%, which shows that the total spending is a substantial amount higher than the GDP. Whereas China is incredibly efficent with their difference between GDP and total spending. This would potentially mean that either China could be in no war whereas Ireland are in a war. It could also mean that potentially Ireland is stockpiling resources and over the next year or two the GDP would become much higher. "
   ]
  },
  {
   "cell_type": "markdown",
   "id": "c24362fb",
   "metadata": {},
   "source": [
    "### Analysis of Per Capita Variable\n",
    "\n",
    "The final variable to look at is per capita. This is defined as \" the amount spent by a nation on its military per capita in a given year.\" In other words, this would be the amount that the country has spent based on one person in the country. In the SIPRI dataset, this seems to be the one variable that is heavily estimated due to the data which they collect from nations not containing full information.\n",
    "\n",
    "I think it's an interesting study though as many things can affect this, if a country has a smaller population, but a big military, you would expect them to have a very high per capita figure, an example of this is Finland, whose per capita figure for 2020 was $/1064.1.\n",
    "\n",
    "For this variable, I am going to create a bar chart, with the 5 country variables and have a look into them further after.."
   ]
  },
  {
   "cell_type": "code",
   "execution_count": 88,
   "id": "479e124c",
   "metadata": {},
   "outputs": [
    {
     "data": {
      "image/png": "[encoded data removed]",
      "text/plain": [
       "<Figure size 432x288 with 1 Axes>"
      ]
     },
     "metadata": {
      "needs_background": "light"
     },
     "output_type": "display_data"
    }
   ],
   "source": [
    "Countries = ['Saudi Arabia', 'Russia', 'China', 'Ireland', 'US']\n",
    "\n",
    "Capita = [2013, 446, 500, 691, 1905]\n",
    "\n",
    "# Set my two arrays, as the country and the figure\n",
    "\n",
    "# plotting\n",
    "plt.title(\"Per Capita\")\n",
    "# Gave title to code\n",
    "plt.xlabel(\"Countries\")\n",
    "# Put countries as the x label\n",
    "plt.ylabel(\"Values\")\n",
    "# Put Values as Y label\n",
    "plt.plot(Countries, Capita, color =\"red\")\n",
    "# Plotted graph and made red\n",
    "plt.show()"
   ]
  },
  {
   "cell_type": "markdown",
   "id": "c8f814bb",
   "metadata": {},
   "source": [
    "The main things I can see from the plot, is that Saudi Arabia and the US per capita has the highest figures, whereas Russia is much lower than them both. The reasons that they might be much higher could be due to a higher or lower population. This may mean that the country with a higher population, spends a similar amount to a country with a lower population. An example of this is Finland, but also Qatar. Qatar in real terms is currently number one on this list with a figure of $/3,955.4.[9]\n",
    "\n",
    "Qatar has a population of 2.931 million people in 2021, but spent $11.6 billion on their military. Qatar’s military expenditure last year was 434\\% higher than what it was in 2010, the last time such data was released by the Gulf state. Qatar had spent 4.8\\% of its gross domestic product (GDP) on the military which was published in SIPRI’s 2021 ‘Trends in World Military Expenditure’ report.[10] \n",
    "\n",
    "I think the sythezised data for this figure is quite interesting, but I don't think it's very accurate as China and the US should be much higher. "
   ]
  },
  {
   "cell_type": "markdown",
   "id": "e60584a7",
   "metadata": {},
   "source": [
    "# Conclusions\n",
    "\n",
    "The main conclusions that I have discovered whilst doing this project, is how valuable numpy random can be to create data so quickly. I think setting the ranges, made it much easier for myself, and the validity of the information for me to look at the original excel sheet. I used the original dataset for an idea, but then was able to completely change the format of it, to create the data from what I wanted at the start.\n",
    "\n",
    "I thought at the start when I had the idea for this analysis, that there would be a lot of data, and I found very little other than what SIPRI had done, which is why I decided to do it and I think with more time, there could be some amazing data analysis developed for this. If I was to do this project differently, I would take a specific country and take the 3 main variables of total spend, GDP and per capita and map out how they changed. That's the main reason I tried to take just 5 countries in the latter part of the project as I felt the analysis would be better on a smaller scale, but with the graphs of all countries, I tried to show that the data I chose, is like a small scale example of what we see when I outputted all data.\n",
    "\n",
    "My main conclusion in regards military spending from everything that I read, is that it is pretty scary how high the figures are to this day when we are no longer in a World War or the Cold War. The United States was the top nation in terms of military expenditure, spending $801 billion to make up almost 38\\% of global military spending in 2021. America has been the top military spending nation since SIPRI began tracking in 1949, making up more than 30\\% of the world’s military spending for the last two decades. [11] It just feels crazy how high these figures are growing year by year and has now passed $2 Trillion in 2021. "
   ]
  },
  {
   "cell_type": "markdown",
   "id": "f120bf1f",
   "metadata": {},
   "source": [
    "# References\n",
    "\n",
    "[1] World Population Review - https://worldpopulationreview.com/country-rankings/military-spending-by-country\n",
    "\n",
    "[2] SIPRI https://milex.sipri.org/sipri\n",
    "\n",
    "[3] SIPRI https://www.sipri.org/databases/milex/definitions\n",
    "\n",
    "[4] SIPRI https://www.sipri.org/media/press-release/2022/world-military-expenditure-passes-2-trillion-first-time\n",
    "\n",
    "[5] ResearchSquare What can scatterplots teach us about doing data\n",
    "science better? https://assets.researchsquare.com/files/rs-1733113/v1/1d63b502-127c-42cc-879d-420600e3cab4.pdf?c=1654792075\n",
    "\n",
    "[6] Irish Times https://www.irishtimes.com/news/ireland/irish-news/ireland-s-defence-spending-set-to-rise-by-at-least-50-says-coveney-1.4864427\n",
    "\n",
    "[7] Defense News https://www.defensenews.com/global/mideast-africa/2021/12/13/saudi-arabia-decreases-defense-spending-to-46-billion/\n",
    "\n",
    "[8] IMF https://www.imf.org/external/pubs/ft/fandd/2021/06/military-spending-in-the-post-pandemic-era-clements-gupta-khamidova.htm\n",
    "\n",
    "[9] Wikipedia https://en.wikipedia.org/wiki/List_of_countries_by_military_expenditure_per_capita\n",
    "\n",
    "[10] Doha News https://dohanews.co/qatars-spending-on-military-soars-by-434/\n",
    "\n",
    "[11] Visual Capitalist  https://www.visualcapitalist.com/ranked-top-10-countries-by-military-spending/#:~:text=The%20United%20States%20was%20the,for%20the%20last%20two%20decades."
   ]
  }
 ],
 "metadata": {
  "kernelspec": {
   "display_name": "Python 3 (ipykernel)",
   "language": "python",
   "name": "python3"
  },
  "language_info": {
   "codemirror_mode": {
    "name": "ipython",
    "version": 3
   },
   "file_extension": ".py",
   "mimetype": "text/x-python",
   "name": "python",
   "nbconvert_exporter": "python",
   "pygments_lexer": "ipython3",
   "version": "3.9.7"
  }
 },
 "nbformat": 4,
 "nbformat_minor": 5
}
