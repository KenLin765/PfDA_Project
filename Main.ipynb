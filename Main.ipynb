{
 "cells": [
  {
   "cell_type": "markdown",
   "id": "9958a91e",
   "metadata": {},
   "source": [
    "# Introduction to Project"
   ]
  },
  {
   "cell_type": "markdown",
   "id": "65deefa1",
   "metadata": {},
   "source": [
    "## Project Description"
   ]
  },
  {
   "cell_type": "markdown",
   "id": "e64bbbad",
   "metadata": {},
   "source": [
    "For this project you must create a data set by simulating a real-world phenomenon of\n",
    "your choosing. You may pick any phenomenon you wish – you might pick one that is\n",
    "of interest to you in your personal or professional life. Then, rather than collect data\n",
    "related to the phenomenon, you should model and synthesise such data using Python.\n",
    "We suggest you use the numpy.random package for this purpose.\n",
    "Specifically, in this project you should:\n",
    "\n",
    "- Choose a real-world phenomenon that can be measured and for which you could collect at least one-hundred data points across at least four different variables.\n",
    "- Investigate the types of variables involved, their likely distributions, and their relationships with each other.\n",
    "- Synthesise/simulate a data set as closely matching their properties as possible.\n",
    "- Detail your research and implement the simulation in a Jupyter notebook the data set itself can simply be displayed in an output cell within the notebook.\n",
    "\n",
    "Note that this project is about simulation – you must synthesise a data set. Some students may already have some real-world data sets in their own files. It is okay to base your synthesised data set on these should you wish (please reference it if you do),\n",
    "but the main task in this project is to create a synthesised data set."
   ]
  },
  {
   "cell_type": "markdown",
   "id": "5d9c8a89",
   "metadata": {},
   "source": [
    "## Main Sources Used For Project\n",
    "\n",
    "- Python[1] is the main code used for project \n",
    "\n",
    "- Seaborn[2] is a library used for making attractive and informative statistical graphics in Python.\n",
    "\n",
    "- Pandas[3] are used for data manipulation and analysis.\n",
    "\n",
    "- Numpy.Random [4] is a subpackage of the NumPy package for working with random numbers."
   ]
  },
  {
   "cell_type": "markdown",
   "id": "6d7d8561",
   "metadata": {},
   "source": [
    "## Aim for project"
   ]
  },
  {
   "cell_type": "markdown",
   "id": "f508d8b4",
   "metadata": {},
   "source": [
    "The aim for my project is to look at military spending by countries for 2021. I firstly looked at World Population Review[5] I wanted to see real life data and what research had been done in this area already. A lot of the information, has been based on research by Stockholm International Peace Research (SIPRI Military Expenditure Database)[6] as a basis for a lot of my research. \n",
    "\n",
    "The main variables which I will research are the population of the country, how much they are spending on their military, country's GDP and finally the percentage of GDP that makes up the countries spending per year. \n",
    "\n",
    "As of 2021, world military expenditure has passed $2 trillion for first time. Total global military expenditure increased by 0.7 per cent in real terms in 2021, to reach $2113 billion with the 5 biggest countries being the US, China, India, the UK and Russia.[3]"
   ]
  },
  {
   "cell_type": "code",
   "execution_count": 7,
   "id": "1d04f003",
   "metadata": {},
   "outputs": [],
   "source": [
    "# import python libraries\n",
    "import numpy as np\n",
    "import pandas as pd\n",
    "import seaborn as sns\n",
    "import matplotlib.pyplot as plt\n",
    "import string\n",
    "import random"
   ]
  },
  {
   "cell_type": "markdown",
   "id": "276df762",
   "metadata": {},
   "source": [
    "I firstly decided to look at real life data. I had to very slightly adapt the database which I got from SIPRI. I removed the first approximately 10 lines on each excel sheet as I was finding it difficult read in the data. The main pieces that I removed provided just general info on the database."
   ]
  },
  {
   "cell_type": "code",
   "execution_count": 3,
   "id": "afacbddc",
   "metadata": {},
   "outputs": [
    {
     "name": "stdout",
     "output_type": "stream",
     "text": [
      "The shape of the data from Current US$ is: \n",
      " (191, 75)\n",
      "The shape of the data from GDP is: \n",
      " (191, 75)\n",
      "The shape of the data from percentage of spending is: \n",
      " (191, 37)\n"
     ]
    }
   ],
   "source": [
    "df = pd.read_excel(r'C:\\Users\\Kenne\\OneDrive\\Desktop\\Programming\\PfDA_Project\\data\\SIPRI DATA.xlsx', sheet_name= 'Current US')\n",
    "\n",
    "GDP = pd.read_excel(r'C:\\Users\\Kenne\\OneDrive\\Desktop\\Programming\\PfDA_Project\\data\\SIPRI DATA.xlsx', sheet_name= 'Share of GDP')\n",
    "\n",
    "percentage = pd.read_excel(r'C:\\Users\\Kenne\\OneDrive\\Desktop\\Programming\\PfDA_Project\\data\\SIPRI DATA.xlsx', sheet_name= 'Share of Govt. spending')\n",
    "\n",
    "print(\"The shape of the data from Current US$ is: \\n\",df.shape)\n",
    "\n",
    "print(\"The shape of the data from GDP is: \\n\",GDP.shape)\n",
    "\n",
    "print(\"The shape of the data from percentage of spending is: \\n\",percentage.shape)"
   ]
  },
  {
   "cell_type": "markdown",
   "id": "3585df54",
   "metadata": {},
   "source": [
    "I decided to look at the shape of the data firstly and it shows that there 191 columns in the database, mostly displaying countries and continents in which they are in. There are also 75 rows of data which displays the amount spent by a country, in dollars. The GDP data on the dataset is the exact same in terms of columns and rows.\n",
    "\n",
    "I also wanted to dipslay that my idea for the "
   ]
  },
  {
   "cell_type": "code",
   "execution_count": 14,
   "id": "2ed46193",
   "metadata": {},
   "outputs": [
    {
     "data": {
      "text/plain": [
       "56"
      ]
     },
     "execution_count": 14,
     "metadata": {},
     "output_type": "execute_result"
    }
   ],
   "source": [
    "df = pd.read_excel(r'C:\\Users\\Kenne\\OneDrive\\Desktop\\Programming\\PfDA_Project\\data\\SIPRI DATA.xlsx', sheet_name= 'Current US')\n",
    "\n",
    "df.isnull().any(axis = 1).sum()"
   ]
  },
  {
   "cell_type": "markdown",
   "id": "16e7667a",
   "metadata": {},
   "source": [
    "I saw a bit of an issue with dataset as there was a lot of missing data. \n",
    "\n",
    "If I was to ever do further analysis on this dataset, I think I would take specific years as opposed to all the data."
   ]
  },
  {
   "cell_type": "markdown",
   "id": "e6f461a9",
   "metadata": {},
   "source": [
    "## 2. Investigate the types of variables involved, their likely distributions, and their relationships with each other\n",
    "\n",
    "In this part of the assignment, I am going to create the dataset based on numpy random and begin to investigate distributions and relationships with one another. \n",
    "\n",
    "Firstly, I will investigate the variables in the datasets used by SIPRI. I will use histograms and boxplots to show some of the variables in this dataset. I will then explore relationships that may exist between the variables using visualisations such as scatterplot, pairplots etc and statistics such as correlation and covariance statistics.\n",
    "\n",
    "I will use this to create a synthesised data set.\n",
    "\n",
    "I have decided to use the actual country names, just purely as I find it easier to analyse with a real name as opposed to a pseudo name. \n",
    "\n",
    "I will create the country's GDP, total spending and percentages of spending using random numpy.\n",
    "\n",
    "I will then use this data to visualise relationships which we may find.\n",
    "\n",
    "For the purposes of this assignment, I am going to say that this is the data for 2021."
   ]
  },
  {
   "cell_type": "markdown",
   "id": "190cb9c3",
   "metadata": {},
   "source": [
    "In my analysis of the dataset, I realised that I couldn't use randint for all 4 columns so I decided to append the datasets together using code. "
   ]
  },
  {
   "cell_type": "code",
   "execution_count": 37,
   "id": "735f752b",
   "metadata": {
    "scrolled": true
   },
   "outputs": [],
   "source": [
    "#Used 248 as that is the number of countries\n",
    "\n",
    "Total_Spend = np.random.randint(2000000,190000000,size=(248,1))\n",
    "\n",
    "#I created the array by taking all countries from this website - https://pytutorial.com/python-country-list\n",
    "\n",
    "countries = ['Afghanistan', 'Aland Islands', 'Albania', 'Algeria', 'American Samoa', 'Andorra', 'Angola', 'Anguilla', 'Antarctica', 'Antigua and Barbuda', 'Argentina', 'Armenia', 'Aruba', 'Australia', 'Austria', 'Azerbaijan', 'Bahamas', 'Bahrain', 'Bangladesh', 'Barbados', 'Belarus', 'Belgium', 'Belize', 'Benin', 'Bermuda', 'Bhutan', 'Bolivia, Plurinational State of', 'Bonaire, Sint Eustatius and Saba', 'Bosnia and Herzegovina', 'Botswana', 'Bouvet Island', 'Brazil', 'British Indian Ocean Territory', 'Brunei Darussalam', 'Bulgaria', 'Burkina Faso', 'Burundi', 'Cambodia', 'Cameroon', 'Canada', 'Cape Verde', 'Cayman Islands', 'Central African Republic', 'Chad', 'Chile', 'China', 'Christmas Island', 'Cocos (Keeling) Islands', 'Colombia', 'Comoros', 'Congo', 'Congo, The Democratic Republic of the', 'Cook Islands', 'Costa Rica', \"Côte d'Ivoire\", 'Croatia', 'Cuba', 'Curaçao', 'Cyprus', 'Czech Republic', 'Denmark', 'Djibouti', 'Dominica', 'Dominican Republic', 'Ecuador', 'Egypt', 'El Salvador', 'Equatorial Guinea', 'Eritrea', 'Estonia', 'Ethiopia', 'Falkland Islands (Malvinas)', 'Faroe Islands', 'Fiji', 'Finland', 'France', 'French Guiana', 'French Polynesia', 'French Southern Territories', 'Gabon', 'Gambia', 'Georgia', 'Germany', 'Ghana', 'Gibraltar', 'Greece', 'Greenland', 'Grenada', 'Guadeloupe', 'Guam', 'Guatemala', 'Guernsey', 'Guinea', 'Guinea-Bissau', 'Guyana', 'Haiti', 'Heard Island and McDonald Islands', 'Holy See (Vatican City State)', 'Honduras', 'Hong Kong', 'Hungary', 'Iceland', 'India', 'Indonesia', 'Iran, Islamic Republic of', 'Iraq', 'Ireland', 'Isle of Man', 'Israel', 'Italy', 'Jamaica', 'Japan', 'Jersey', 'Jordan', 'Kazakhstan', 'Kenya', 'Kiribati', \"Korea, Democratic People's Republic of\", 'Korea, Republic of', 'Kuwait', 'Kyrgyzstan', \"Lao People's Democratic Republic\", 'Latvia', 'Lebanon', 'Lesotho', 'Liberia', 'Libya', 'Liechtenstein', 'Lithuania', 'Luxembourg', 'Macao', 'Macedonia, Republic of', 'Madagascar', 'Malawi', 'Malaysia', 'Maldives', 'Mali', 'Malta', 'Marshall Islands', 'Martinique', 'Mauritania', 'Mauritius', 'Mayotte', 'Mexico', 'Micronesia, Federated States of', 'Moldova, Republic of', 'Monaco', 'Mongolia', 'Montenegro', 'Montserrat', 'Morocco', 'Mozambique', 'Myanmar', 'Namibia', 'Nauru', 'Nepal', 'Netherlands', 'New Caledonia', 'New Zealand', 'Nicaragua', 'Niger', 'Nigeria', 'Niue', 'Norfolk Island', 'Northern Mariana Islands', 'Norway', 'Oman', 'Pakistan', 'Palau', 'Palestinian Territory, Occupied', 'Panama', 'Papua New Guinea', 'Paraguay', 'Peru', 'Philippines', 'Pitcairn', 'Poland', 'Portugal', 'Puerto Rico', 'Qatar', 'Réunion', 'Romania', 'Russian Federation', 'Rwanda', 'Saint Barthélemy', 'Saint Helena, Ascension and Tristan da Cunha', 'Saint Kitts and Nevis', 'Saint Lucia', 'Saint Martin (French part)', 'Saint Pierre and Miquelon', 'Saint Vincent and the Grenadines', 'Samoa', 'San Marino', 'Sao Tome and Principe', 'Saudi Arabia', 'Senegal', 'Serbia', 'Seychelles', 'Sierra Leone', 'Singapore', 'Sint Maarten (Dutch part)', 'Slovakia', 'Slovenia', 'Solomon Islands', 'Somalia', 'South Africa', 'South Georgia and the South Sandwich Islands', 'Spain', 'Sri Lanka', 'Sudan', 'Suriname', 'South Sudan', 'Svalbard and Jan Mayen', 'Swaziland', 'Sweden', 'Switzerland', 'Syrian Arab Republic', 'Taiwan, Province of China', 'Tajikistan', 'Tanzania, United Republic of', 'Thailand', 'Timor-Leste', 'Togo', 'Tokelau', 'Tonga', 'Trinidad and Tobago', 'Tunisia', 'Turkey', 'Turkmenistan', 'Turks and Caicos Islands', 'Tuvalu', 'Uganda', 'Ukraine', 'United Arab Emirates', 'United Kingdom', 'United States', 'United States Minor Outlying Islands', 'Uruguay', 'Uzbekistan', 'Vanuatu', 'Venezuela, Bolivarian Republic of', 'Viet Nam', 'Virgin Islands, British', 'Virgin Islands, U.S.', 'Wallis and Futuna', 'Yemen', 'Zambia', 'Zimbabwe']\n",
    "\n",
    "df1 = pd.DataFrame(Total_Spend, countries, columns= ['Total Spending'])\n",
    "\n",
    "\n",
    "\n",
    "GDP = np.random.randint(1,6,size=(248,1))\n",
    "\n",
    "#I created the array by taking all countries from this website - https://pytutorial.com/python-country-list\n",
    "\n",
    "\n",
    "df2 = pd.DataFrame(GDP, countries, columns= ['Total GDP'])\n",
    "\n",
    "\n",
    "\n",
    "Percentage_Of_Spending = np.random.randint(1,36,size=(248,1))\n",
    "\n",
    "#I created the array by taking all countries from this website - https://pytutorial.com/python-country-list\n",
    "\n",
    "df3 = pd.DataFrame(Percentage_Of_Spending, countries, columns= ['Percentage of spending'])\n",
    "\n",
    "\n",
    "Per_Capita = np.random.randint(4,2025,size=(248,1))\n",
    "\n",
    "#I created the array by taking all countries from this website - https://pytutorial.com/python-country-list\n",
    "\n",
    "df4 = pd.DataFrame(Per_Capita, countries, columns= ['Per Capita'])\n",
    "\n",
    "\n",
    "df1.to_csv(\"sythesized.csv\")\n",
    "df2.to_csv(\"sythesized.csv\", mode=\"a\")\n",
    "df3.to_csv(\"sythesized.csv\", mode=\"a\")\n",
    "df4.to_csv(\"sythesized.csv\", mode=\"a\")\n"
   ]
  },
  {
   "cell_type": "markdown",
   "id": "87f9a120",
   "metadata": {},
   "source": [
    "## Information on how I Sythesized Data\n",
    "\n",
    "I was unable to get the code to go next to each other on the output of this code, so just due to time constraints, I have amended the data manually using excel.\n",
    "\n",
    "I have called the new file sythesized2. I added a dollar sign using excel, just for simplicity due to the size of the numbers.\n",
    "\n",
    "I tried to base the sythesized data as much as possible around the original data file, which is why I ran the randint code 4 times, as I wanted to provide different values, so that the data could be as close to the original as I could possibly could get it."
   ]
  },
  {
   "cell_type": "code",
   "execution_count": 57,
   "id": "8ee9f21d",
   "metadata": {},
   "outputs": [
    {
     "name": "stdout",
     "output_type": "stream",
     "text": [
      "             Countries  Total Spending  Total GDP  Percentage of spending  \\\n",
      "0          Afghanistan       112750202          5                       6   \n",
      "1        Aland Islands       171844362          3                       8   \n",
      "2              Albania       104346364          2                      22   \n",
      "3              Algeria        68241318          1                      24   \n",
      "4       American Samoa        34195364          5                       8   \n",
      "5              Andorra       134238338          5                      14   \n",
      "6               Angola       136442542          4                      19   \n",
      "7             Anguilla        26530832          4                       8   \n",
      "8           Antarctica       171791222          4                      29   \n",
      "9  Antigua and Barbuda       107515200          3                       2   \n",
      "\n",
      "   Per Capita  \n",
      "0        1103  \n",
      "1         282  \n",
      "2         884  \n",
      "3         416  \n",
      "4        1730  \n",
      "5         711  \n",
      "6        1469  \n",
      "7         893  \n",
      "8          72  \n",
      "9         211  \n",
      "                             Countries  Total Spending  Total GDP  \\\n",
      "238                         Uzbekistan         3423662          4   \n",
      "239                            Vanuatu       114051644          5   \n",
      "240  Venezuela, Bolivarian Republic of       120301799          3   \n",
      "241                           Viet Nam        82941173          4   \n",
      "242            Virgin Islands, British       166473137          1   \n",
      "243               Virgin Islands, U.S.        44593106          5   \n",
      "244                  Wallis and Futuna        32230518          5   \n",
      "245                              Yemen       167926032          1   \n",
      "246                             Zambia       121122799          4   \n",
      "247                           Zimbabwe        29552468          3   \n",
      "\n",
      "     Percentage of spending  Per Capita  \n",
      "238                      34        1973  \n",
      "239                      11         332  \n",
      "240                      21        1412  \n",
      "241                       7        1937  \n",
      "242                      15        1956  \n",
      "243                      24         959  \n",
      "244                      29        1565  \n",
      "245                       2        1661  \n",
      "246                      32         985  \n",
      "247                      29        1572  \n",
      "\n",
      "The shape of the data from percentage of spending is: \n",
      " (248, 5)\n"
     ]
    }
   ],
   "source": [
    "df = pd.read_excel(r'C:\\Users\\Kenne\\OneDrive\\Desktop\\Programming\\PfDA_Project\\data\\sythesized2.xlsx', sheet_name= 'in')\n",
    "\n",
    "print (df.head(10))\n",
    "\n",
    "print (df.tail(10))\n",
    "\n",
    "print(\"\")\n",
    "\n",
    "print(\"The shape of the data from percentage of spending is: \\n\",df.shape)"
   ]
  },
  {
   "cell_type": "markdown",
   "id": "f0757b45",
   "metadata": {},
   "source": [
    "I printed the top 10 just to check that the excel sheet was displaying correctly and it seems to be fine, based on the variables that I created. The data which I created also has a shape of 248 rows and 5 columns which I had to amend from the original database to create the information.\n",
    "\n",
    "The next part of the study I am going to develop a histogram of the total spending and then using this data with specific nations to compare how their spending compares with the other variables."
   ]
  },
  {
   "cell_type": "code",
   "execution_count": 55,
   "id": "cd0e0155",
   "metadata": {},
   "outputs": [
    {
     "data": {
      "image/png": "[encoded data removed]",
      "text/plain": [
       "<Figure size 432x288 with 1 Axes>"
      ]
     },
     "metadata": {},
     "output_type": "display_data"
    }
   ],
   "source": [
    "import pandas as pd\n",
    "\n",
    "import matplotlib.pyplot as plt\n",
    "\n",
    "df = pd.read_excel(r'C:\\Users\\Kenne\\OneDrive\\Desktop\\Programming\\PfDA_Project\\data\\sythesized2.xlsx', sheet_name= 'in')\n",
    "\n",
    "## Reads in the excel file\n",
    "\n",
    "df.plot( x='Countries', y='Total Spending', kind='scatter')\n",
    "\n",
    "## X plot of the countries column from excel sheet, y plot of the total spending column on excel\n",
    "\n",
    "plt.xticks(range(0,0))\n",
    "## This was displaying all countries, and I wanted to just show the general data for a start\n",
    "\n",
    "plt.title(\"Total Spending by country\")\n",
    "\n",
    "plt.show()"
   ]
  },
  {
   "cell_type": "markdown",
   "id": "4d4126b9",
   "metadata": {},
   "source": [
    "I generated a scatter plot to show the variety of data which the numpy random package has created based on the data which it created. A scatter plot has been described as \"A scatterplot is often the graph of choice for displaying the relationship between two variables. Scatterplots are useful for exploratory analysis, but can do much more than just identifying correlations. As datasets get larger and more complex, relying solely on “eye power” alone may cause us to miss\n",
    "interesting associations.\" [4]\n",
    "\n",
    "My reason for using the scatter plot is that I felt it shows a variety which makes this an interesting study to take different. I also think it provides a nice display of the data. In the original dataset, it showed each year, how much military spending each country made, and the data seems quite broad like the data that I had seen in the first dataset. \n",
    "\n",
    "The US in real life spent $801 billion in 2021 on their military spend, with a GDP of 3.5\\%. Russia's GDP rose to 4.1 with a military spend of $65.9 billion for the same period. China's military spending was $293 billion, with a GDP of 1.7.[3] These would be the 3 global super powers. I decided to then look into Ireland, as we have been a neutral country post WWII Ireland's spend in 2021 increased to 1.1 billion. The Irish government have said \"the next few months on raising its level of expenditure on defence as well as on increasing numbers and boosting military infrastructure and is currently unable to credibly defend the country.\" It has increased by 50\\% to approximately €1.6 billion. It shows for a such a small country, how much they can spend. The final country, I think is an interesting one to look at is Saudi Arabia, who have been in military conflict with Yemen and you would expect to have a high military spending. Saudi Arabia spent €190 billion and with 8.4\\% of their GDP. "
   ]
  },
  {
   "cell_type": "markdown",
   "id": "fecc7298",
   "metadata": {},
   "source": [
    "For the next part of the project, I am going to take these five nations and investigate the sythesized data and the relationship between these variables. "
   ]
  }
 ],
 "metadata": {
  "kernelspec": {
   "display_name": "Python 3 (ipykernel)",
   "language": "python",
   "name": "python3"
  },
  "language_info": {
   "codemirror_mode": {
    "name": "ipython",
    "version": 3
   },
   "file_extension": ".py",
   "mimetype": "text/x-python",
   "name": "python",
   "nbconvert_exporter": "python",
   "pygments_lexer": "ipython3",
   "version": "3.9.7"
  }
 },
 "nbformat": 4,
 "nbformat_minor": 5
}
