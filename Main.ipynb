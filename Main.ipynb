{
 "cells": [
  {
   "cell_type": "markdown",
   "id": "9958a91e",
   "metadata": {},
   "source": [
    "# Introduction to Project"
   ]
  },
  {
   "cell_type": "markdown",
   "id": "65deefa1",
   "metadata": {},
   "source": [
    "## Project Description"
   ]
  },
  {
   "cell_type": "markdown",
   "id": "e64bbbad",
   "metadata": {},
   "source": [
    "For this project you must create a data set by simulating a real-world phenomenon of\n",
    "your choosing. You may pick any phenomenon you wish – you might pick one that is\n",
    "of interest to you in your personal or professional life. Then, rather than collect data\n",
    "related to the phenomenon, you should model and synthesise such data using Python.\n",
    "We suggest you use the numpy.random package for this purpose.\n",
    "Specifically, in this project you should:\n",
    "\n",
    "- Choose a real-world phenomenon that can be measured and for which you could collect at least one-hundred data points across at least four different variables.\n",
    "- Investigate the types of variables involved, their likely distributions, and their relationships with each other.\n",
    "- Synthesise/simulate a data set as closely matching their properties as possible.\n",
    "- Detail your research and implement the simulation in a Jupyter notebook the data set itself can simply be displayed in an output cell within the notebook.\n",
    "\n",
    "Note that this project is about simulation – you must synthesise a data set. Some students may already have some real-world data sets in their own files. It is okay to base your synthesised data set on these should you wish (please reference it if you do),\n",
    "but the main task in this project is to create a synthesised data set."
   ]
  },
  {
   "cell_type": "markdown",
   "id": "5d9c8a89",
   "metadata": {},
   "source": [
    "## Main Sources Used For Project\n",
    "\n",
    "- Python[1] is the main code used for project \n",
    "\n",
    "- Seaborn[2] is a library used for making attractive and informative statistical graphics in Python.\n",
    "\n",
    "- Pandas[3] are used for data manipulation and analysis.\n",
    "\n",
    "- Numpy.Random [4] is a subpackage of the NumPy package for working with random numbers."
   ]
  },
  {
   "cell_type": "markdown",
   "id": "6d7d8561",
   "metadata": {},
   "source": [
    "## Aim for project"
   ]
  },
  {
   "cell_type": "markdown",
   "id": "f508d8b4",
   "metadata": {},
   "source": [
    "The aim for my project is to look at military spending by countries for 2021. I firstly looked at World Population Review[5] I wanted to see real life data and what research had been done in this area already. A lot of the information, has been based on research by Stockholm International Peace Research (SIPRI Military Expenditure Database)[6] as a basis for a lot of my research. \n",
    "\n",
    "The main variables which I will research are the population of the country, how much they are spending on their military, country's GDP and finally the percentage of GDP that makes up the countries spending per year. \n",
    "\n",
    "As of 2021, world military expenditure has passed $2 trillion for first time. Total global military expenditure increased by 0.7 per cent in real terms in 2021, to reach $2113 billion with the 5 biggest countries being the US, China, India, the UK and Russia.[3]"
   ]
  },
  {
   "cell_type": "code",
   "execution_count": null,
   "id": "1d04f003",
   "metadata": {},
   "outputs": [],
   "source": [
    "# import python libraries\n",
    "import numpy as np\n",
    "import pandas as pd\n",
    "import seaborn as sns\n",
    "import matplotlib.pyplot as plt\n",
    "import string\n",
    "import random"
   ]
  },
  {
   "cell_type": "markdown",
   "id": "276df762",
   "metadata": {},
   "source": [
    "I firstly decided to look at real life data. I had to very slightly adapt the database which I got from SIPRI. I removed the first approximately 10 lines on each excel sheet as I was finding it difficult read in the data. The main pieces that I removed provided just general info on the database."
   ]
  },
  {
   "cell_type": "code",
   "execution_count": 3,
   "id": "afacbddc",
   "metadata": {},
   "outputs": [
    {
     "name": "stdout",
     "output_type": "stream",
     "text": [
      "The shape of the data from Current US$ is: \n",
      " (191, 75)\n",
      "The shape of the data from GDP is: \n",
      " (191, 75)\n",
      "The shape of the data from percentage of spending is: \n",
      " (191, 37)\n"
     ]
    }
   ],
   "source": [
    "df = pd.read_excel(r'C:\\Users\\Kenne\\OneDrive\\Desktop\\Programming\\PfDA_Project\\data\\SIPRI DATA.xlsx', sheet_name= 'Current US')\n",
    "\n",
    "GDP = pd.read_excel(r'C:\\Users\\Kenne\\OneDrive\\Desktop\\Programming\\PfDA_Project\\data\\SIPRI DATA.xlsx', sheet_name= 'Share of GDP')\n",
    "\n",
    "percentage = pd.read_excel(r'C:\\Users\\Kenne\\OneDrive\\Desktop\\Programming\\PfDA_Project\\data\\SIPRI DATA.xlsx', sheet_name= 'Share of Govt. spending')\n",
    "\n",
    "print(\"The shape of the data from Current US$ is: \\n\",df.shape)\n",
    "\n",
    "print(\"The shape of the data from GDP is: \\n\",GDP.shape)\n",
    "\n",
    "print(\"The shape of the data from percentage of spending is: \\n\",percentage.shape)"
   ]
  },
  {
   "cell_type": "markdown",
   "id": "3585df54",
   "metadata": {},
   "source": [
    "I decided to look at the shape of the data firstly and it shows that there 191 columns in the database, mostly displaying countries and continents in which they are in. There are also 75 rows of data which displays the amount spent by a country, in dollars. The GDP data on the dataset is the exact same in terms of columns and rows.\n",
    "\n",
    "I also wanted to dipslay that my idea for the "
   ]
  },
  {
   "cell_type": "code",
   "execution_count": 14,
   "id": "2ed46193",
   "metadata": {},
   "outputs": [
    {
     "data": {
      "text/plain": [
       "56"
      ]
     },
     "execution_count": 14,
     "metadata": {},
     "output_type": "execute_result"
    }
   ],
   "source": [
    "df = pd.read_excel(r'C:\\Users\\Kenne\\OneDrive\\Desktop\\Programming\\PfDA_Project\\data\\SIPRI DATA.xlsx', sheet_name= 'Current US')\n",
    "\n",
    "df.isnull().any(axis = 1).sum()"
   ]
  },
  {
   "cell_type": "markdown",
   "id": "16e7667a",
   "metadata": {},
   "source": [
    "I saw a bit of an issue with dataset as there was a lot of missing data. \n",
    "\n",
    "If I was to ever do further analysis on this dataset, I think I would take specific years as opposed to all the data."
   ]
  },
  {
   "cell_type": "markdown",
   "id": "e6f461a9",
   "metadata": {},
   "source": [
    "## 2. Investigate the types of variables involved, their likely distributions, and their relationships with each other\n",
    "\n",
    "In this part of the assignment, I am going to create the dataset based on numpy random and begin to investigate distributions and relationships with one another. \n",
    "\n",
    "Firstly, I will investigate the variables in the datasets used by SIPRI. I will use histograms and boxplots to show some of the variables in this dataset. I will then explore relationships that may exist between the variables using visualisations such as scatterplot, pairplots etc and statistics such as correlation and covariance statistics.\n",
    "\n",
    "I will use this to create a synthesised data set.\n",
    "\n",
    "I have decided to use the actual country names, just purely as I find it easier to analyse with a real name as opposed to a pseudo name. \n",
    "\n",
    "I will create the country's GDP, total spending and percentages of spending using random numpy.\n",
    "\n",
    "I will then use this data to visualise relationships which we may find."
   ]
  },
  {
   "cell_type": "code",
   "execution_count": 9,
   "id": "3b6bb07e",
   "metadata": {},
   "outputs": [
    {
     "name": "stdout",
     "output_type": "stream",
     "text": [
      "                      GDP  Total Spending  Percentages of Spending\n",
      "Afghanistan             8               8                        7\n",
      "Aland Islands           9               6                        6\n",
      "Albania                 9               5                        5\n",
      "Algeria                 8               5                        6\n",
      "American Samoa          9               5                        9\n",
      "...                   ...             ...                      ...\n",
      "Virgin Islands, U.S.    9               5                        7\n",
      "Wallis and Futuna       5               5                        7\n",
      "Yemen                   9               5                        7\n",
      "Zambia                  5               6                        8\n",
      "Zimbabwe                6               6                        6\n",
      "\n",
      "[248 rows x 3 columns]\n"
     ]
    }
   ],
   "source": [
    "# Used 248 as that is the number of countries\n",
    "\n",
    "data = np.random.randint(5,10,size=(248,3))\n",
    "\n",
    "# I created the array by taking all countries from this website - https://pytutorial.com/python-country-list\n",
    "countries = ['Afghanistan', 'Aland Islands', 'Albania', 'Algeria', 'American Samoa', 'Andorra', 'Angola', 'Anguilla', 'Antarctica', 'Antigua and Barbuda', 'Argentina', 'Armenia', 'Aruba', 'Australia', 'Austria', 'Azerbaijan', 'Bahamas', 'Bahrain', 'Bangladesh', 'Barbados', 'Belarus', 'Belgium', 'Belize', 'Benin', 'Bermuda', 'Bhutan', 'Bolivia, Plurinational State of', 'Bonaire, Sint Eustatius and Saba', 'Bosnia and Herzegovina', 'Botswana', 'Bouvet Island', 'Brazil', 'British Indian Ocean Territory', 'Brunei Darussalam', 'Bulgaria', 'Burkina Faso', 'Burundi', 'Cambodia', 'Cameroon', 'Canada', 'Cape Verde', 'Cayman Islands', 'Central African Republic', 'Chad', 'Chile', 'China', 'Christmas Island', 'Cocos (Keeling) Islands', 'Colombia', 'Comoros', 'Congo', 'Congo, The Democratic Republic of the', 'Cook Islands', 'Costa Rica', \"Côte d'Ivoire\", 'Croatia', 'Cuba', 'Curaçao', 'Cyprus', 'Czech Republic', 'Denmark', 'Djibouti', 'Dominica', 'Dominican Republic', 'Ecuador', 'Egypt', 'El Salvador', 'Equatorial Guinea', 'Eritrea', 'Estonia', 'Ethiopia', 'Falkland Islands (Malvinas)', 'Faroe Islands', 'Fiji', 'Finland', 'France', 'French Guiana', 'French Polynesia', 'French Southern Territories', 'Gabon', 'Gambia', 'Georgia', 'Germany', 'Ghana', 'Gibraltar', 'Greece', 'Greenland', 'Grenada', 'Guadeloupe', 'Guam', 'Guatemala', 'Guernsey', 'Guinea', 'Guinea-Bissau', 'Guyana', 'Haiti', 'Heard Island and McDonald Islands', 'Holy See (Vatican City State)', 'Honduras', 'Hong Kong', 'Hungary', 'Iceland', 'India', 'Indonesia', 'Iran, Islamic Republic of', 'Iraq', 'Ireland', 'Isle of Man', 'Israel', 'Italy', 'Jamaica', 'Japan', 'Jersey', 'Jordan', 'Kazakhstan', 'Kenya', 'Kiribati', \"Korea, Democratic People's Republic of\", 'Korea, Republic of', 'Kuwait', 'Kyrgyzstan', \"Lao People's Democratic Republic\", 'Latvia', 'Lebanon', 'Lesotho', 'Liberia', 'Libya', 'Liechtenstein', 'Lithuania', 'Luxembourg', 'Macao', 'Macedonia, Republic of', 'Madagascar', 'Malawi', 'Malaysia', 'Maldives', 'Mali', 'Malta', 'Marshall Islands', 'Martinique', 'Mauritania', 'Mauritius', 'Mayotte', 'Mexico', 'Micronesia, Federated States of', 'Moldova, Republic of', 'Monaco', 'Mongolia', 'Montenegro', 'Montserrat', 'Morocco', 'Mozambique', 'Myanmar', 'Namibia', 'Nauru', 'Nepal', 'Netherlands', 'New Caledonia', 'New Zealand', 'Nicaragua', 'Niger', 'Nigeria', 'Niue', 'Norfolk Island', 'Northern Mariana Islands', 'Norway', 'Oman', 'Pakistan', 'Palau', 'Palestinian Territory, Occupied', 'Panama', 'Papua New Guinea', 'Paraguay', 'Peru', 'Philippines', 'Pitcairn', 'Poland', 'Portugal', 'Puerto Rico', 'Qatar', 'Réunion', 'Romania', 'Russian Federation', 'Rwanda', 'Saint Barthélemy', 'Saint Helena, Ascension and Tristan da Cunha', 'Saint Kitts and Nevis', 'Saint Lucia', 'Saint Martin (French part)', 'Saint Pierre and Miquelon', 'Saint Vincent and the Grenadines', 'Samoa', 'San Marino', 'Sao Tome and Principe', 'Saudi Arabia', 'Senegal', 'Serbia', 'Seychelles', 'Sierra Leone', 'Singapore', 'Sint Maarten (Dutch part)', 'Slovakia', 'Slovenia', 'Solomon Islands', 'Somalia', 'South Africa', 'South Georgia and the South Sandwich Islands', 'Spain', 'Sri Lanka', 'Sudan', 'Suriname', 'South Sudan', 'Svalbard and Jan Mayen', 'Swaziland', 'Sweden', 'Switzerland', 'Syrian Arab Republic', 'Taiwan, Province of China', 'Tajikistan', 'Tanzania, United Republic of', 'Thailand', 'Timor-Leste', 'Togo', 'Tokelau', 'Tonga', 'Trinidad and Tobago', 'Tunisia', 'Turkey', 'Turkmenistan', 'Turks and Caicos Islands', 'Tuvalu', 'Uganda', 'Ukraine', 'United Arab Emirates', 'United Kingdom', 'United States', 'United States Minor Outlying Islands', 'Uruguay', 'Uzbekistan', 'Vanuatu', 'Venezuela, Bolivarian Republic of', 'Viet Nam', 'Virgin Islands, British', 'Virgin Islands, U.S.', 'Wallis and Futuna', 'Yemen', 'Zambia', 'Zimbabwe']\n",
    "\n",
    "df = pd.DataFrame(data, countries, columns=['GDP', 'Total Spending', 'Percentages of Spending'])\n",
    "\n",
    "print(df)"
   ]
  },
  {
   "cell_type": "code",
   "execution_count": null,
   "id": "19d23f6e",
   "metadata": {},
   "outputs": [],
   "source": []
  }
 ],
 "metadata": {
  "kernelspec": {
   "display_name": "Python 3 (ipykernel)",
   "language": "python",
   "name": "python3"
  },
  "language_info": {
   "codemirror_mode": {
    "name": "ipython",
    "version": 3
   },
   "file_extension": ".py",
   "mimetype": "text/x-python",
   "name": "python",
   "nbconvert_exporter": "python",
   "pygments_lexer": "ipython3",
   "version": "3.9.7"
  }
 },
 "nbformat": 4,
 "nbformat_minor": 5
}
